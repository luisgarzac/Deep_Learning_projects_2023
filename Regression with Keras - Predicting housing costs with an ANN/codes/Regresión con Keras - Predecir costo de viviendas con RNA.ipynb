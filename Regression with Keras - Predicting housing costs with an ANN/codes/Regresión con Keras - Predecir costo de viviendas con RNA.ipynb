{
 "cells": [
  {
   "cell_type": "markdown",
   "id": "5587e6b1",
   "metadata": {},
   "source": [
    "# Introducción a Keras: Implementando una RNA para regresión"
   ]
  },
  {
   "cell_type": "markdown",
   "id": "12eb0a24",
   "metadata": {},
   "source": [
    "## Conjunto de datos"
   ]
  },
  {
   "cell_type": "markdown",
   "id": "174ae8f4",
   "metadata": {},
   "source": [
    "### Descripción\n",
    "\n",
    "Este conjunto de datos contiene información recopilada por el Servicio de Censos de los EE.UU. sobre las viviendas en el área de Boston Mass. Se obtuvo del archivo StatLib (http://lib.stat.cmu.edu/datasets/boston), y se ha utilizado extensamente en toda la literatura para comparar diferentes algoritmos de Machine Learning.\n",
    "\n",
    "Los datos fueron publicados originalmente por Harrison, D. y Rubinfeld, D.L. Precios hedónicos y la demanda de aire limpio', J. Environ. Economics & Management, vol.5, 81-102, 1978.\n",
    "\n",
    "### Características del conjunto de datos\n",
    "\n",
    "El conjunto de datos es pequeño, con sólo 506 casos. Contiene 14 características que se describen a continuación:\n",
    "\n",
    "* CRIM: per capita crime rate by town\n",
    "* ZN: proportion of residential land zoned for lots over 25,000 sq.ft.\n",
    "* INDUS: proportion of non-retail business acres per town.\n",
    "* CHAS: Charles River dummy variable (1 if tract bounds river; 0 otherwise)\n",
    "* NOX: nitric oxides concentration (parts per 10 million)\n",
    "* RM: average number of rooms per dwelling\n",
    "* AGE: proportion of owner-occupied units built prior to 1940\n",
    "* DIS: weighted distances to five Boston employment centres\n",
    "* RAD: index of accessibility to radial highways\n",
    "* TAX: full-value property-tax rate per 10,000 dollars\n",
    "* PTRATIO: pupil-teacher ratio by town\n",
    "* B: 1000(Bk — 0.63)² where Bk is the proportion of blacks by town\n",
    "* LSTAT: % lower status of the population\n",
    "* MEDV: Median value of owner-occupied homes in 1000 dollars\n",
    "\n",
    "**El objetivo de nuestro problema de regresión es utilizar las 13 primeras características para predecir el valor de MEDV (que representa el precio de la vivienda).**"
   ]
  },
  {
   "cell_type": "markdown",
   "id": "9b31cb95",
   "metadata": {},
   "source": [
    "## 0. Imports"
   ]
  },
  {
   "cell_type": "code",
   "execution_count": 1,
   "id": "b93081f0",
   "metadata": {},
   "outputs": [
    {
     "data": {
      "text/plain": [
       "'2.10.0'"
      ]
     },
     "execution_count": 1,
     "metadata": {},
     "output_type": "execute_result"
    }
   ],
   "source": [
    "import tensorflow as tf\n",
    "\n",
    "tf.__version__"
   ]
  },
  {
   "cell_type": "code",
   "execution_count": 2,
   "id": "b935a41c",
   "metadata": {},
   "outputs": [
    {
     "data": {
      "text/plain": [
       "'2.10.0'"
      ]
     },
     "execution_count": 2,
     "metadata": {},
     "output_type": "execute_result"
    }
   ],
   "source": [
    "from tensorflow import keras\n",
    "\n",
    "keras.__version__"
   ]
  },
  {
   "cell_type": "markdown",
   "id": "0f801d34",
   "metadata": {},
   "source": [
    "# 1. Definición del conjunto de datos de entrenamiento"
   ]
  },
  {
   "cell_type": "markdown",
   "id": "b6cbf1d7",
   "metadata": {},
   "source": [
    "# 1.1 Importando el conjunto de datos"
   ]
  },
  {
   "cell_type": "code",
   "execution_count": 3,
   "id": "f9b7e164",
   "metadata": {},
   "outputs": [],
   "source": [
    "from tensorflow.keras import datasets"
   ]
  },
  {
   "cell_type": "code",
   "execution_count": 4,
   "id": "13b3de96",
   "metadata": {},
   "outputs": [],
   "source": [
    "boston_housing = datasets.boston_housing"
   ]
  },
  {
   "cell_type": "code",
   "execution_count": 5,
   "id": "0a32885e",
   "metadata": {},
   "outputs": [
    {
     "name": "stdout",
     "output_type": "stream",
     "text": [
      "Downloading data from https://storage.googleapis.com/tensorflow/tf-keras-datasets/boston_housing.npz\n",
      "57026/57026 [==============================] - 0s 1us/step\n"
     ]
    }
   ],
   "source": [
    "(X_train, y_train),(X_test, y_test) = boston_housing.load_data()"
   ]
  },
  {
   "cell_type": "code",
   "execution_count": 6,
   "id": "aa6c5590",
   "metadata": {},
   "outputs": [
    {
     "data": {
      "text/plain": [
       "(404, 13)"
      ]
     },
     "execution_count": 6,
     "metadata": {},
     "output_type": "execute_result"
    }
   ],
   "source": [
    "X_train.shape # 404 ejemplos con 13 caracteristicas de entrada"
   ]
  },
  {
   "cell_type": "code",
   "execution_count": 7,
   "id": "b0af3a3c",
   "metadata": {},
   "outputs": [
    {
     "data": {
      "text/plain": [
       "(102, 13)"
      ]
     },
     "execution_count": 7,
     "metadata": {},
     "output_type": "execute_result"
    }
   ],
   "source": [
    "X_test.shape # 102 ejemplos con 13 caracteristicas de entrada"
   ]
  },
  {
   "cell_type": "code",
   "execution_count": 8,
   "id": "11974014",
   "metadata": {},
   "outputs": [
    {
     "data": {
      "text/plain": [
       "((array([[1.23247e+00, 0.00000e+00, 8.14000e+00, ..., 2.10000e+01,\n",
       "          3.96900e+02, 1.87200e+01],\n",
       "         [2.17700e-02, 8.25000e+01, 2.03000e+00, ..., 1.47000e+01,\n",
       "          3.95380e+02, 3.11000e+00],\n",
       "         [4.89822e+00, 0.00000e+00, 1.81000e+01, ..., 2.02000e+01,\n",
       "          3.75520e+02, 3.26000e+00],\n",
       "         ...,\n",
       "         [3.46600e-02, 3.50000e+01, 6.06000e+00, ..., 1.69000e+01,\n",
       "          3.62250e+02, 7.83000e+00],\n",
       "         [2.14918e+00, 0.00000e+00, 1.95800e+01, ..., 1.47000e+01,\n",
       "          2.61950e+02, 1.57900e+01],\n",
       "         [1.43900e-02, 6.00000e+01, 2.93000e+00, ..., 1.56000e+01,\n",
       "          3.76700e+02, 4.38000e+00]]),\n",
       "  array([15.2, 42.3, 50. , 21.1, 17.7, 18.5, 11.3, 15.6, 15.6, 14.4, 12.1,\n",
       "         17.9, 23.1, 19.9, 15.7,  8.8, 50. , 22.5, 24.1, 27.5, 10.9, 30.8,\n",
       "         32.9, 24. , 18.5, 13.3, 22.9, 34.7, 16.6, 17.5, 22.3, 16.1, 14.9,\n",
       "         23.1, 34.9, 25. , 13.9, 13.1, 20.4, 20. , 15.2, 24.7, 22.2, 16.7,\n",
       "         12.7, 15.6, 18.4, 21. , 30.1, 15.1, 18.7,  9.6, 31.5, 24.8, 19.1,\n",
       "         22. , 14.5, 11. , 32. , 29.4, 20.3, 24.4, 14.6, 19.5, 14.1, 14.3,\n",
       "         15.6, 10.5,  6.3, 19.3, 19.3, 13.4, 36.4, 17.8, 13.5, 16.5,  8.3,\n",
       "         14.3, 16. , 13.4, 28.6, 43.5, 20.2, 22. , 23. , 20.7, 12.5, 48.5,\n",
       "         14.6, 13.4, 23.7, 50. , 21.7, 39.8, 38.7, 22.2, 34.9, 22.5, 31.1,\n",
       "         28.7, 46. , 41.7, 21. , 26.6, 15. , 24.4, 13.3, 21.2, 11.7, 21.7,\n",
       "         19.4, 50. , 22.8, 19.7, 24.7, 36.2, 14.2, 18.9, 18.3, 20.6, 24.6,\n",
       "         18.2,  8.7, 44. , 10.4, 13.2, 21.2, 37. , 30.7, 22.9, 20. , 19.3,\n",
       "         31.7, 32. , 23.1, 18.8, 10.9, 50. , 19.6,  5. , 14.4, 19.8, 13.8,\n",
       "         19.6, 23.9, 24.5, 25. , 19.9, 17.2, 24.6, 13.5, 26.6, 21.4, 11.9,\n",
       "         22.6, 19.6,  8.5, 23.7, 23.1, 22.4, 20.5, 23.6, 18.4, 35.2, 23.1,\n",
       "         27.9, 20.6, 23.7, 28. , 13.6, 27.1, 23.6, 20.6, 18.2, 21.7, 17.1,\n",
       "          8.4, 25.3, 13.8, 22.2, 18.4, 20.7, 31.6, 30.5, 20.3,  8.8, 19.2,\n",
       "         19.4, 23.1, 23. , 14.8, 48.8, 22.6, 33.4, 21.1, 13.6, 32.2, 13.1,\n",
       "         23.4, 18.9, 23.9, 11.8, 23.3, 22.8, 19.6, 16.7, 13.4, 22.2, 20.4,\n",
       "         21.8, 26.4, 14.9, 24.1, 23.8, 12.3, 29.1, 21. , 19.5, 23.3, 23.8,\n",
       "         17.8, 11.5, 21.7, 19.9, 25. , 33.4, 28.5, 21.4, 24.3, 27.5, 33.1,\n",
       "         16.2, 23.3, 48.3, 22.9, 22.8, 13.1, 12.7, 22.6, 15. , 15.3, 10.5,\n",
       "         24. , 18.5, 21.7, 19.5, 33.2, 23.2,  5. , 19.1, 12.7, 22.3, 10.2,\n",
       "         13.9, 16.3, 17. , 20.1, 29.9, 17.2, 37.3, 45.4, 17.8, 23.2, 29. ,\n",
       "         22. , 18. , 17.4, 34.6, 20.1, 25. , 15.6, 24.8, 28.2, 21.2, 21.4,\n",
       "         23.8, 31. , 26.2, 17.4, 37.9, 17.5, 20. ,  8.3, 23.9,  8.4, 13.8,\n",
       "          7.2, 11.7, 17.1, 21.6, 50. , 16.1, 20.4, 20.6, 21.4, 20.6, 36.5,\n",
       "          8.5, 24.8, 10.8, 21.9, 17.3, 18.9, 36.2, 14.9, 18.2, 33.3, 21.8,\n",
       "         19.7, 31.6, 24.8, 19.4, 22.8,  7.5, 44.8, 16.8, 18.7, 50. , 50. ,\n",
       "         19.5, 20.1, 50. , 17.2, 20.8, 19.3, 41.3, 20.4, 20.5, 13.8, 16.5,\n",
       "         23.9, 20.6, 31.5, 23.3, 16.8, 14. , 33.8, 36.1, 12.8, 18.3, 18.7,\n",
       "         19.1, 29. , 30.1, 50. , 50. , 22. , 11.9, 37.6, 50. , 22.7, 20.8,\n",
       "         23.5, 27.9, 50. , 19.3, 23.9, 22.6, 15.2, 21.7, 19.2, 43.8, 20.3,\n",
       "         33.2, 19.9, 22.5, 32.7, 22. , 17.1, 19. , 15. , 16.1, 25.1, 23.7,\n",
       "         28.7, 37.2, 22.6, 16.4, 25. , 29.8, 22.1, 17.4, 18.1, 30.3, 17.5,\n",
       "         24.7, 12.6, 26.5, 28.7, 13.3, 10.4, 24.4, 23. , 20. , 17.8,  7. ,\n",
       "         11.8, 24.4, 13.8, 19.4, 25.2, 19.4, 19.4, 29.1])),\n",
       " (array([[1.80846e+01, 0.00000e+00, 1.81000e+01, ..., 2.02000e+01,\n",
       "          2.72500e+01, 2.90500e+01],\n",
       "         [1.23290e-01, 0.00000e+00, 1.00100e+01, ..., 1.78000e+01,\n",
       "          3.94950e+02, 1.62100e+01],\n",
       "         [5.49700e-02, 0.00000e+00, 5.19000e+00, ..., 2.02000e+01,\n",
       "          3.96900e+02, 9.74000e+00],\n",
       "         ...,\n",
       "         [1.83377e+00, 0.00000e+00, 1.95800e+01, ..., 1.47000e+01,\n",
       "          3.89610e+02, 1.92000e+00],\n",
       "         [3.58090e-01, 0.00000e+00, 6.20000e+00, ..., 1.74000e+01,\n",
       "          3.91700e+02, 9.71000e+00],\n",
       "         [2.92400e+00, 0.00000e+00, 1.95800e+01, ..., 1.47000e+01,\n",
       "          2.40160e+02, 9.81000e+00]]),\n",
       "  array([ 7.2, 18.8, 19. , 27. , 22.2, 24.5, 31.2, 22.9, 20.5, 23.2, 18.6,\n",
       "         14.5, 17.8, 50. , 20.8, 24.3, 24.2, 19.8, 19.1, 22.7, 12. , 10.2,\n",
       "         20. , 18.5, 20.9, 23. , 27.5, 30.1,  9.5, 22. , 21.2, 14.1, 33.1,\n",
       "         23.4, 20.1,  7.4, 15.4, 23.8, 20.1, 24.5, 33. , 28.4, 14.1, 46.7,\n",
       "         32.5, 29.6, 28.4, 19.8, 20.2, 25. , 35.4, 20.3,  9.7, 14.5, 34.9,\n",
       "         26.6,  7.2, 50. , 32.4, 21.6, 29.8, 13.1, 27.5, 21.2, 23.1, 21.9,\n",
       "         13. , 23.2,  8.1,  5.6, 21.7, 29.6, 19.6,  7. , 26.4, 18.9, 20.9,\n",
       "         28.1, 35.4, 10.2, 24.3, 43.1, 17.6, 15.4, 16.2, 27.1, 21.4, 21.5,\n",
       "         22.4, 25. , 16.6, 18.6, 22. , 42.8, 35.1, 21.5, 36. , 21.9, 24.1,\n",
       "         50. , 26.7, 25. ])))"
      ]
     },
     "execution_count": 8,
     "metadata": {},
     "output_type": "execute_result"
    }
   ],
   "source": [
    "boston_housing.load_data()"
   ]
  },
  {
   "cell_type": "code",
   "execution_count": 9,
   "id": "40a15dab",
   "metadata": {},
   "outputs": [
    {
     "data": {
      "text/plain": [
       "(404,)"
      ]
     },
     "execution_count": 9,
     "metadata": {},
     "output_type": "execute_result"
    }
   ],
   "source": [
    "y_train.shape"
   ]
  },
  {
   "cell_type": "markdown",
   "id": "a04f0103",
   "metadata": {},
   "source": [
    "# 1.2 Visualizando el conjunto de datos"
   ]
  },
  {
   "cell_type": "code",
   "execution_count": 10,
   "id": "1ddf341e",
   "metadata": {},
   "outputs": [],
   "source": [
    "import pandas as pd\n",
    "import numpy as np"
   ]
  },
  {
   "cell_type": "code",
   "execution_count": 11,
   "id": "444b3462",
   "metadata": {},
   "outputs": [
    {
     "data": {
      "text/html": [
       "<div>\n",
       "<style scoped>\n",
       "    .dataframe tbody tr th:only-of-type {\n",
       "        vertical-align: middle;\n",
       "    }\n",
       "\n",
       "    .dataframe tbody tr th {\n",
       "        vertical-align: top;\n",
       "    }\n",
       "\n",
       "    .dataframe thead th {\n",
       "        text-align: right;\n",
       "    }\n",
       "</style>\n",
       "<table border=\"1\" class=\"dataframe\">\n",
       "  <thead>\n",
       "    <tr style=\"text-align: right;\">\n",
       "      <th></th>\n",
       "      <th>CRIM</th>\n",
       "      <th>ZN</th>\n",
       "      <th>INDUS</th>\n",
       "      <th>CHAS</th>\n",
       "      <th>NOX</th>\n",
       "      <th>RM</th>\n",
       "      <th>AGE</th>\n",
       "      <th>DIS</th>\n",
       "      <th>RAD</th>\n",
       "      <th>TAX</th>\n",
       "      <th>PTRATIO</th>\n",
       "      <th>B</th>\n",
       "      <th>LSTAT</th>\n",
       "      <th>MEDV</th>\n",
       "    </tr>\n",
       "  </thead>\n",
       "  <tbody>\n",
       "    <tr>\n",
       "      <th>0</th>\n",
       "      <td>1.23247</td>\n",
       "      <td>0.0</td>\n",
       "      <td>8.14</td>\n",
       "      <td>0.0</td>\n",
       "      <td>0.538</td>\n",
       "      <td>6.142</td>\n",
       "      <td>91.7</td>\n",
       "      <td>3.9769</td>\n",
       "      <td>4.0</td>\n",
       "      <td>307.0</td>\n",
       "      <td>21.0</td>\n",
       "      <td>396.90</td>\n",
       "      <td>18.72</td>\n",
       "      <td>15.2</td>\n",
       "    </tr>\n",
       "    <tr>\n",
       "      <th>1</th>\n",
       "      <td>0.02177</td>\n",
       "      <td>82.5</td>\n",
       "      <td>2.03</td>\n",
       "      <td>0.0</td>\n",
       "      <td>0.415</td>\n",
       "      <td>7.610</td>\n",
       "      <td>15.7</td>\n",
       "      <td>6.2700</td>\n",
       "      <td>2.0</td>\n",
       "      <td>348.0</td>\n",
       "      <td>14.7</td>\n",
       "      <td>395.38</td>\n",
       "      <td>3.11</td>\n",
       "      <td>42.3</td>\n",
       "    </tr>\n",
       "    <tr>\n",
       "      <th>2</th>\n",
       "      <td>4.89822</td>\n",
       "      <td>0.0</td>\n",
       "      <td>18.10</td>\n",
       "      <td>0.0</td>\n",
       "      <td>0.631</td>\n",
       "      <td>4.970</td>\n",
       "      <td>100.0</td>\n",
       "      <td>1.3325</td>\n",
       "      <td>24.0</td>\n",
       "      <td>666.0</td>\n",
       "      <td>20.2</td>\n",
       "      <td>375.52</td>\n",
       "      <td>3.26</td>\n",
       "      <td>50.0</td>\n",
       "    </tr>\n",
       "    <tr>\n",
       "      <th>3</th>\n",
       "      <td>0.03961</td>\n",
       "      <td>0.0</td>\n",
       "      <td>5.19</td>\n",
       "      <td>0.0</td>\n",
       "      <td>0.515</td>\n",
       "      <td>6.037</td>\n",
       "      <td>34.5</td>\n",
       "      <td>5.9853</td>\n",
       "      <td>5.0</td>\n",
       "      <td>224.0</td>\n",
       "      <td>20.2</td>\n",
       "      <td>396.90</td>\n",
       "      <td>8.01</td>\n",
       "      <td>21.1</td>\n",
       "    </tr>\n",
       "    <tr>\n",
       "      <th>4</th>\n",
       "      <td>3.69311</td>\n",
       "      <td>0.0</td>\n",
       "      <td>18.10</td>\n",
       "      <td>0.0</td>\n",
       "      <td>0.713</td>\n",
       "      <td>6.376</td>\n",
       "      <td>88.4</td>\n",
       "      <td>2.5671</td>\n",
       "      <td>24.0</td>\n",
       "      <td>666.0</td>\n",
       "      <td>20.2</td>\n",
       "      <td>391.43</td>\n",
       "      <td>14.65</td>\n",
       "      <td>17.7</td>\n",
       "    </tr>\n",
       "    <tr>\n",
       "      <th>5</th>\n",
       "      <td>0.28392</td>\n",
       "      <td>0.0</td>\n",
       "      <td>7.38</td>\n",
       "      <td>0.0</td>\n",
       "      <td>0.493</td>\n",
       "      <td>5.708</td>\n",
       "      <td>74.3</td>\n",
       "      <td>4.7211</td>\n",
       "      <td>5.0</td>\n",
       "      <td>287.0</td>\n",
       "      <td>19.6</td>\n",
       "      <td>391.13</td>\n",
       "      <td>11.74</td>\n",
       "      <td>18.5</td>\n",
       "    </tr>\n",
       "    <tr>\n",
       "      <th>6</th>\n",
       "      <td>9.18702</td>\n",
       "      <td>0.0</td>\n",
       "      <td>18.10</td>\n",
       "      <td>0.0</td>\n",
       "      <td>0.700</td>\n",
       "      <td>5.536</td>\n",
       "      <td>100.0</td>\n",
       "      <td>1.5804</td>\n",
       "      <td>24.0</td>\n",
       "      <td>666.0</td>\n",
       "      <td>20.2</td>\n",
       "      <td>396.90</td>\n",
       "      <td>23.60</td>\n",
       "      <td>11.3</td>\n",
       "    </tr>\n",
       "    <tr>\n",
       "      <th>7</th>\n",
       "      <td>4.09740</td>\n",
       "      <td>0.0</td>\n",
       "      <td>19.58</td>\n",
       "      <td>0.0</td>\n",
       "      <td>0.871</td>\n",
       "      <td>5.468</td>\n",
       "      <td>100.0</td>\n",
       "      <td>1.4118</td>\n",
       "      <td>5.0</td>\n",
       "      <td>403.0</td>\n",
       "      <td>14.7</td>\n",
       "      <td>396.90</td>\n",
       "      <td>26.42</td>\n",
       "      <td>15.6</td>\n",
       "    </tr>\n",
       "    <tr>\n",
       "      <th>8</th>\n",
       "      <td>2.15505</td>\n",
       "      <td>0.0</td>\n",
       "      <td>19.58</td>\n",
       "      <td>0.0</td>\n",
       "      <td>0.871</td>\n",
       "      <td>5.628</td>\n",
       "      <td>100.0</td>\n",
       "      <td>1.5166</td>\n",
       "      <td>5.0</td>\n",
       "      <td>403.0</td>\n",
       "      <td>14.7</td>\n",
       "      <td>169.27</td>\n",
       "      <td>16.65</td>\n",
       "      <td>15.6</td>\n",
       "    </tr>\n",
       "    <tr>\n",
       "      <th>9</th>\n",
       "      <td>1.62864</td>\n",
       "      <td>0.0</td>\n",
       "      <td>21.89</td>\n",
       "      <td>0.0</td>\n",
       "      <td>0.624</td>\n",
       "      <td>5.019</td>\n",
       "      <td>100.0</td>\n",
       "      <td>1.4394</td>\n",
       "      <td>4.0</td>\n",
       "      <td>437.0</td>\n",
       "      <td>21.2</td>\n",
       "      <td>396.90</td>\n",
       "      <td>34.41</td>\n",
       "      <td>14.4</td>\n",
       "    </tr>\n",
       "  </tbody>\n",
       "</table>\n",
       "</div>"
      ],
      "text/plain": [
       "      CRIM    ZN  INDUS  CHAS    NOX     RM    AGE     DIS   RAD    TAX  \\\n",
       "0  1.23247   0.0   8.14   0.0  0.538  6.142   91.7  3.9769   4.0  307.0   \n",
       "1  0.02177  82.5   2.03   0.0  0.415  7.610   15.7  6.2700   2.0  348.0   \n",
       "2  4.89822   0.0  18.10   0.0  0.631  4.970  100.0  1.3325  24.0  666.0   \n",
       "3  0.03961   0.0   5.19   0.0  0.515  6.037   34.5  5.9853   5.0  224.0   \n",
       "4  3.69311   0.0  18.10   0.0  0.713  6.376   88.4  2.5671  24.0  666.0   \n",
       "5  0.28392   0.0   7.38   0.0  0.493  5.708   74.3  4.7211   5.0  287.0   \n",
       "6  9.18702   0.0  18.10   0.0  0.700  5.536  100.0  1.5804  24.0  666.0   \n",
       "7  4.09740   0.0  19.58   0.0  0.871  5.468  100.0  1.4118   5.0  403.0   \n",
       "8  2.15505   0.0  19.58   0.0  0.871  5.628  100.0  1.5166   5.0  403.0   \n",
       "9  1.62864   0.0  21.89   0.0  0.624  5.019  100.0  1.4394   4.0  437.0   \n",
       "\n",
       "   PTRATIO       B  LSTAT  MEDV  \n",
       "0     21.0  396.90  18.72  15.2  \n",
       "1     14.7  395.38   3.11  42.3  \n",
       "2     20.2  375.52   3.26  50.0  \n",
       "3     20.2  396.90   8.01  21.1  \n",
       "4     20.2  391.43  14.65  17.7  \n",
       "5     19.6  391.13  11.74  18.5  \n",
       "6     20.2  396.90  23.60  11.3  \n",
       "7     14.7  396.90  26.42  15.6  \n",
       "8     14.7  169.27  16.65  15.6  \n",
       "9     21.2  396.90  34.41  14.4  "
      ]
     },
     "execution_count": 11,
     "metadata": {},
     "output_type": "execute_result"
    }
   ],
   "source": [
    "features = [\"CRIM\", \"ZN\", \"INDUS\", \"CHAS\", \"NOX\", \"RM\", \"AGE\", \"DIS\", \"RAD\", \"TAX\", \"PTRATIO\", \"B\", \"LSTAT\", \"MEDV\"]\n",
    "\n",
    "df_train = pd.DataFrame(np.column_stack([X_train, y_train]), columns = features)\n",
    "df_train.head(10)"
   ]
  },
  {
   "cell_type": "markdown",
   "id": "29a85bf7",
   "metadata": {},
   "source": [
    "# 1.3 División del conjunto de datos"
   ]
  },
  {
   "cell_type": "markdown",
   "id": "b6dc6a63",
   "metadata": {},
   "source": [
    "Para la realización de una serie de pruebas adicionales vamos a dividir el conjunto de datos de prueba en dos subconjuntos, el conjunto de validación (X_val) y el conjunto de pruebas (X_test)"
   ]
  },
  {
   "cell_type": "code",
   "execution_count": 12,
   "id": "3f562324",
   "metadata": {},
   "outputs": [],
   "source": [
    "from sklearn.model_selection import train_test_split\n",
    "\n",
    "X_test, X_val, y_test, y_val = train_test_split(X_test, y_test, test_size = 0.5)"
   ]
  },
  {
   "cell_type": "code",
   "execution_count": 13,
   "id": "c4568473",
   "metadata": {},
   "outputs": [
    {
     "data": {
      "text/plain": [
       "(51, 13)"
      ]
     },
     "execution_count": 13,
     "metadata": {},
     "output_type": "execute_result"
    }
   ],
   "source": [
    "X_test.shape"
   ]
  },
  {
   "cell_type": "code",
   "execution_count": 14,
   "id": "834307e8",
   "metadata": {},
   "outputs": [
    {
     "data": {
      "text/plain": [
       "(51, 13)"
      ]
     },
     "execution_count": 14,
     "metadata": {},
     "output_type": "execute_result"
    }
   ],
   "source": [
    "X_val.shape"
   ]
  },
  {
   "cell_type": "markdown",
   "id": "367ca8e3",
   "metadata": {},
   "source": [
    "# Definición de la arquitectura de la Red Neuronal Artificial"
   ]
  },
  {
   "cell_type": "code",
   "execution_count": 15,
   "id": "dcb50996",
   "metadata": {},
   "outputs": [],
   "source": [
    "from tensorflow.keras import models\n",
    "from tensorflow.keras import layers"
   ]
  },
  {
   "cell_type": "markdown",
   "id": "93fe1c0c",
   "metadata": {},
   "source": [
    "Definimos una Red Neuronal Artificial formada por 3 capas:\n",
    "* La primera capa estará formada por 30 neuronas\n",
    "* La segunda capa estará formada por 10 neuronas\n",
    "* La última capa estará formada por 1 neurona"
   ]
  },
  {
   "cell_type": "code",
   "execution_count": 16,
   "id": "1367394f",
   "metadata": {},
   "outputs": [],
   "source": [
    "network = models.Sequential()\n",
    "\n",
    "network.add(layers.Dense(30, activation = 'relu', input_shape = X_train.shape[1:]))\n",
    "network.add(layers.Dense(10, activation = 'relu'))\n",
    "network.add(layers.Dense(1)) # al ser regresion no le ponemos funcion de activación."
   ]
  },
  {
   "cell_type": "markdown",
   "id": "74359c45",
   "metadata": {},
   "source": [
    "Una vez hemos definido la arquitectura de la Red Neuronal Artificial podemos visualizarla junto con el número total de parámetros utilizando el método *summary()*"
   ]
  },
  {
   "cell_type": "code",
   "execution_count": 17,
   "id": "a1de1a18",
   "metadata": {},
   "outputs": [
    {
     "name": "stdout",
     "output_type": "stream",
     "text": [
      "Model: \"sequential\"\n",
      "_________________________________________________________________\n",
      " Layer (type)                Output Shape              Param #   \n",
      "=================================================================\n",
      " dense (Dense)               (None, 30)                420       \n",
      "                                                                 \n",
      " dense_1 (Dense)             (None, 10)                310       \n",
      "                                                                 \n",
      " dense_2 (Dense)             (None, 1)                 11        \n",
      "                                                                 \n",
      "=================================================================\n",
      "Total params: 741\n",
      "Trainable params: 741\n",
      "Non-trainable params: 0\n",
      "_________________________________________________________________\n"
     ]
    }
   ],
   "source": [
    "network.summary()"
   ]
  },
  {
   "cell_type": "markdown",
   "id": "a6c5e8c0",
   "metadata": {},
   "source": [
    "# 2.2 Acceso a los elementos definidos de la RNA"
   ]
  },
  {
   "cell_type": "code",
   "execution_count": 18,
   "id": "7fa5c5f3",
   "metadata": {},
   "outputs": [
    {
     "data": {
      "text/plain": [
       "[<keras.layers.core.dense.Dense at 0x18d4cf24220>,\n",
       " <keras.layers.core.dense.Dense at 0x18d4cf242e0>,\n",
       " <keras.layers.core.dense.Dense at 0x18d4cf3f9a0>]"
      ]
     },
     "execution_count": 18,
     "metadata": {},
     "output_type": "execute_result"
    }
   ],
   "source": [
    "network.layers"
   ]
  },
  {
   "cell_type": "markdown",
   "id": "127ea5d6",
   "metadata": {},
   "source": [
    "En este caso vamos a acceder a los parámetros del modelo que componen las neuronas de la primera hidden layer"
   ]
  },
  {
   "cell_type": "code",
   "execution_count": 19,
   "id": "e18af45a",
   "metadata": {},
   "outputs": [],
   "source": [
    "hidden1 = network.layers[1]"
   ]
  },
  {
   "cell_type": "code",
   "execution_count": 20,
   "id": "e4d4e19b",
   "metadata": {},
   "outputs": [],
   "source": [
    "weights, biases = hidden1.get_weights()"
   ]
  },
  {
   "cell_type": "markdown",
   "id": "dd160189",
   "metadata": {},
   "source": [
    "Como puede observarse en las siguientes celdas, Keras automáticamente inicializa el valor de los parámetros de manera aleatoria y los bias term con el valor 0"
   ]
  },
  {
   "cell_type": "code",
   "execution_count": 21,
   "id": "8ddaa667",
   "metadata": {},
   "outputs": [
    {
     "data": {
      "text/plain": [
       "array([[-0.2658051 , -0.09933215, -0.04960993, -0.2000697 , -0.33455202,\n",
       "        -0.26571172, -0.00096208,  0.04830655,  0.294752  ,  0.25876772],\n",
       "       [ 0.0271045 ,  0.28302532, -0.2855251 ,  0.05433714,  0.26093012,\n",
       "         0.08082831, -0.24740799, -0.04338554, -0.10026321, -0.24498418],\n",
       "       [ 0.35754615,  0.04080355,  0.03992271, -0.24276343,  0.16831982,\n",
       "        -0.31070176,  0.23246598, -0.1519829 , -0.17101926, -0.38469687],\n",
       "       [-0.18137205,  0.36174887, -0.18193254,  0.1753388 ,  0.17150182,\n",
       "         0.08538118,  0.1188423 ,  0.08715633, -0.03696501,  0.25354993],\n",
       "       [-0.35417354, -0.3069804 , -0.07100528, -0.2632023 , -0.16132106,\n",
       "        -0.25326693,  0.02624223, -0.16379428, -0.08150479, -0.12904596],\n",
       "       [-0.3032062 ,  0.06491643, -0.00167096, -0.14611189, -0.12311667,\n",
       "         0.37028134,  0.3433053 ,  0.09526598,  0.00042033, -0.06176814],\n",
       "       [-0.08355388, -0.17457247,  0.11633438, -0.13375717,  0.27413148,\n",
       "         0.05491537,  0.3841189 ,  0.16980499, -0.00648886,  0.35211462],\n",
       "       [ 0.30942434,  0.10059342, -0.20997491,  0.25340384, -0.34364927,\n",
       "         0.28841203, -0.00780192,  0.3807057 , -0.35483208,  0.00079265],\n",
       "       [-0.04793018,  0.08485198, -0.03358096, -0.38249663, -0.36434922,\n",
       "        -0.24381424, -0.37221965, -0.06920919, -0.3241771 ,  0.342286  ],\n",
       "       [-0.25578308,  0.35357517,  0.30492103,  0.3514583 ,  0.3348211 ,\n",
       "         0.12916154, -0.28477588,  0.06008708, -0.14699031, -0.18469025],\n",
       "       [-0.20636316, -0.26392266,  0.07968941,  0.2928815 , -0.28885874,\n",
       "        -0.2582668 , -0.08199963,  0.32290548, -0.1256594 ,  0.30293632],\n",
       "       [ 0.19958979, -0.2925408 , -0.21172631, -0.07112947,  0.349366  ,\n",
       "        -0.32945657,  0.29939574, -0.15651315,  0.22373462,  0.06187865],\n",
       "       [-0.04657254, -0.16412586, -0.11226147,  0.02488014,  0.13206047,\n",
       "        -0.18144092,  0.20636046,  0.24036425, -0.05421755,  0.22001559],\n",
       "       [ 0.25110948, -0.10395011,  0.02770156, -0.07283026,  0.11239213,\n",
       "         0.18064868, -0.15220276,  0.22455174, -0.1922277 , -0.21031103],\n",
       "       [-0.2672499 ,  0.3711534 ,  0.3295771 ,  0.18242228, -0.09815252,\n",
       "        -0.1683851 , -0.14294936, -0.3019612 ,  0.21120995,  0.3139881 ],\n",
       "       [ 0.09508649, -0.18995044,  0.30576164, -0.2724111 , -0.23517472,\n",
       "         0.28451973,  0.01874751, -0.26629597,  0.11950076, -0.1468673 ],\n",
       "       [ 0.13262004, -0.09934804,  0.00234863,  0.20788789, -0.13142267,\n",
       "         0.19954658, -0.0994519 , -0.14493327, -0.31181896,  0.22901082],\n",
       "       [-0.1618026 ,  0.21170962,  0.13939917, -0.17601055, -0.2100993 ,\n",
       "         0.31753612, -0.04235151, -0.16582213,  0.18159854,  0.06580207],\n",
       "       [ 0.09751204, -0.33229452,  0.28815705,  0.21215034, -0.19970661,\n",
       "        -0.17813408, -0.29783422,  0.19891018, -0.17563353, -0.05569646],\n",
       "       [ 0.18955165,  0.2538435 , -0.2585426 ,  0.15657437,  0.17959988,\n",
       "        -0.14752033,  0.17436856,  0.05952585,  0.2805943 , -0.23670404],\n",
       "       [-0.02382904, -0.05554909,  0.12155575,  0.05407241, -0.3224881 ,\n",
       "         0.312222  ,  0.21436739,  0.34383208, -0.06007999, -0.23811287],\n",
       "       [ 0.14395791, -0.02200377, -0.3692804 ,  0.21484119, -0.03092408,\n",
       "         0.07095319,  0.28185463,  0.36898565,  0.12983072,  0.3716436 ],\n",
       "       [-0.29858205,  0.30893826,  0.1475566 , -0.05253053, -0.10056147,\n",
       "         0.15153134, -0.18991978, -0.2256685 , -0.02697033,  0.01571742],\n",
       "       [-0.36727756,  0.17312735,  0.27802855,  0.2320022 , -0.33675885,\n",
       "        -0.0708327 ,  0.11635327, -0.23529874, -0.08882332, -0.19079903],\n",
       "       [ 0.17923492,  0.07853231,  0.20449138,  0.00626963,  0.282068  ,\n",
       "         0.37867975,  0.14394283, -0.37269816,  0.1465345 ,  0.2758733 ],\n",
       "       [ 0.2773435 ,  0.37751955, -0.05418652,  0.16891557, -0.3828909 ,\n",
       "         0.20410019,  0.04789361, -0.06734034, -0.26127917,  0.13222677],\n",
       "       [ 0.22545093,  0.35184538,  0.35125804, -0.01811638,  0.30977303,\n",
       "        -0.3684729 , -0.26895773, -0.19048259, -0.21840917, -0.28711456],\n",
       "       [ 0.3724032 ,  0.211523  ,  0.33276635, -0.15321618,  0.26378757,\n",
       "        -0.11626697, -0.12408412, -0.10516521,  0.0725033 , -0.33918414],\n",
       "       [ 0.15539032, -0.25832313, -0.05818629, -0.02837545, -0.02987781,\n",
       "        -0.33324653, -0.2683733 , -0.38269368,  0.11473763, -0.27270043],\n",
       "       [-0.23873974,  0.13680786,  0.26693344, -0.01877576, -0.30697033,\n",
       "        -0.26829556, -0.18068309,  0.18446392,  0.11651325, -0.05608484]],\n",
       "      dtype=float32)"
      ]
     },
     "execution_count": 21,
     "metadata": {},
     "output_type": "execute_result"
    }
   ],
   "source": [
    "weights"
   ]
  },
  {
   "cell_type": "code",
   "execution_count": 22,
   "id": "a383e0b3",
   "metadata": {},
   "outputs": [
    {
     "data": {
      "text/plain": [
       "array([0., 0., 0., 0., 0., 0., 0., 0., 0., 0.], dtype=float32)"
      ]
     },
     "execution_count": 22,
     "metadata": {},
     "output_type": "execute_result"
    }
   ],
   "source": [
    "biases"
   ]
  },
  {
   "cell_type": "markdown",
   "id": "a623eec5",
   "metadata": {},
   "source": [
    "# 3. Configuración de la Red Neuronal Artificial"
   ]
  },
  {
   "cell_type": "code",
   "execution_count": 23,
   "id": "57b40150",
   "metadata": {},
   "outputs": [],
   "source": [
    "network.compile(loss = 'mean_squared_error', optimizer = 'sgd')"
   ]
  },
  {
   "cell_type": "markdown",
   "id": "7828116f",
   "metadata": {},
   "source": [
    "## 4. Preparacion del conjunto de datos"
   ]
  },
  {
   "cell_type": "markdown",
   "id": "3922024e",
   "metadata": {},
   "source": [
    "Debido a la forma en la que hemos definido la arquitectura de nuestra Red Neuronal Artificial y los parámetros de compilación, vamos a requerir realizar algunas transformaciones sobre nuestro conjunto de datos"
   ]
  },
  {
   "cell_type": "markdown",
   "id": "d6be4e5e",
   "metadata": {},
   "source": [
    "### 4.1. Preparación de las características de entrada"
   ]
  },
  {
   "cell_type": "code",
   "execution_count": 24,
   "id": "ee6a8e98",
   "metadata": {},
   "outputs": [],
   "source": [
    "from sklearn.preprocessing import RobustScaler\n",
    "\n",
    "scaler = RobustScaler()\n",
    "\n",
    "X_train_prep = scaler.fit_transform(X_train)\n",
    "X_val_prep = scaler.transform(X_val)\n",
    "X_test_prep = scaler.transform(X_test)"
   ]
  },
  {
   "cell_type": "markdown",
   "id": "16c3483c",
   "metadata": {},
   "source": [
    "# 5. Entrenamiento de la Red Neuronal Artificial"
   ]
  },
  {
   "cell_type": "markdown",
   "id": "58f54e5e",
   "metadata": {},
   "source": [
    "En este punto ya estamos listos para entrenar nuestra Red Neuronal Artificial invocando el método *fit()*. Una de las capacidades que nos proporciona Keras es la de integrar el proceso de validación en el propio proceso de entrenamiento, para ello, junto con el subconjunto de datos de entrenamiento, debemos proporcionarle a este método el subconjunto de validación."
   ]
  },
  {
   "cell_type": "code",
   "execution_count": 28,
   "id": "3ca10a68",
   "metadata": {},
   "outputs": [
    {
     "name": "stdout",
     "output_type": "stream",
     "text": [
      "Epoch 1/30\n",
      "13/13 [==============================] - 1s 30ms/step - loss: 536.0856 - val_loss: 457.5742\n",
      "Epoch 2/30\n",
      "13/13 [==============================] - 0s 7ms/step - loss: 341.7860 - val_loss: 101.2799\n",
      "Epoch 3/30\n",
      "13/13 [==============================] - 0s 7ms/step - loss: 95.7987 - val_loss: 31.2765\n",
      "Epoch 4/30\n",
      "13/13 [==============================] - 0s 7ms/step - loss: 44.7075 - val_loss: 61.7180\n",
      "Epoch 5/30\n",
      "13/13 [==============================] - 0s 7ms/step - loss: 28.7079 - val_loss: 73.6297\n",
      "Epoch 6/30\n",
      "13/13 [==============================] - 0s 7ms/step - loss: 50.3005 - val_loss: 35.1125\n",
      "Epoch 7/30\n",
      "13/13 [==============================] - 0s 7ms/step - loss: 26.3485 - val_loss: 65.4533\n",
      "Epoch 8/30\n",
      "13/13 [==============================] - 0s 7ms/step - loss: 28.7715 - val_loss: 23.0007\n",
      "Epoch 9/30\n",
      "13/13 [==============================] - 0s 7ms/step - loss: 22.7666 - val_loss: 28.7987\n",
      "Epoch 10/30\n",
      "13/13 [==============================] - 0s 7ms/step - loss: 39.0447 - val_loss: 91.3785\n",
      "Epoch 11/30\n",
      "13/13 [==============================] - 0s 7ms/step - loss: 36.6558 - val_loss: 31.9517\n",
      "Epoch 12/30\n",
      "13/13 [==============================] - 0s 7ms/step - loss: 22.7562 - val_loss: 31.1033\n",
      "Epoch 13/30\n",
      "13/13 [==============================] - 0s 8ms/step - loss: 19.1050 - val_loss: 70.8076\n",
      "Epoch 14/30\n",
      "13/13 [==============================] - 0s 7ms/step - loss: 37.1404 - val_loss: 17.9334\n",
      "Epoch 15/30\n",
      "13/13 [==============================] - 0s 7ms/step - loss: 14.2204 - val_loss: 18.7510\n",
      "Epoch 16/30\n",
      "13/13 [==============================] - 0s 7ms/step - loss: 13.0061 - val_loss: 25.3749\n",
      "Epoch 17/30\n",
      "13/13 [==============================] - 0s 7ms/step - loss: 13.7839 - val_loss: 31.2335\n",
      "Epoch 18/30\n",
      "13/13 [==============================] - 0s 7ms/step - loss: 11.8268 - val_loss: 27.8147\n",
      "Epoch 19/30\n",
      "13/13 [==============================] - 0s 7ms/step - loss: 12.1668 - val_loss: 21.4514\n",
      "Epoch 20/30\n",
      "13/13 [==============================] - 0s 7ms/step - loss: 11.2492 - val_loss: 37.9634\n",
      "Epoch 21/30\n",
      "13/13 [==============================] - 0s 8ms/step - loss: 17.5501 - val_loss: 31.0274\n",
      "Epoch 22/30\n",
      "13/13 [==============================] - 0s 7ms/step - loss: 15.3712 - val_loss: 16.3772\n",
      "Epoch 23/30\n",
      "13/13 [==============================] - 0s 7ms/step - loss: 10.6464 - val_loss: 15.5691\n",
      "Epoch 24/30\n",
      "13/13 [==============================] - 0s 7ms/step - loss: 12.1479 - val_loss: 16.3101\n",
      "Epoch 25/30\n",
      "13/13 [==============================] - 0s 7ms/step - loss: 11.6991 - val_loss: 19.3714\n",
      "Epoch 26/30\n",
      "13/13 [==============================] - 0s 7ms/step - loss: 10.8762 - val_loss: 16.1940\n",
      "Epoch 27/30\n",
      "13/13 [==============================] - 0s 7ms/step - loss: 11.6301 - val_loss: 26.5005\n",
      "Epoch 28/30\n",
      "13/13 [==============================] - 0s 7ms/step - loss: 12.3628 - val_loss: 23.6570\n",
      "Epoch 29/30\n",
      "13/13 [==============================] - 0s 8ms/step - loss: 21.6372 - val_loss: 26.7822\n",
      "Epoch 30/30\n",
      "13/13 [==============================] - 0s 7ms/step - loss: 19.9980 - val_loss: 34.8728\n"
     ]
    }
   ],
   "source": [
    "history = network.fit(X_train_prep, y_train, epochs = 30, validation_data = (X_val_prep, y_val))"
   ]
  },
  {
   "cell_type": "markdown",
   "id": "38aa50c5",
   "metadata": {},
   "source": [
    "En la variable ***history*** se almacenan varios valores importantes:\n",
    "* El valor de los parámetros del modelo después del entrenamiento\n",
    "* La lista de *epochs* llevados a cabo\n",
    "* Un diccionario con el error producido en cada *epoch* en el conjunto de datos de entreanamiento y validación"
   ]
  },
  {
   "cell_type": "code",
   "execution_count": 29,
   "id": "49d013d2",
   "metadata": {},
   "outputs": [
    {
     "data": {
      "image/png": "[encoded data removed]",
      "text/plain": [
       "<Figure size 1000x700 with 1 Axes>"
      ]
     },
     "metadata": {},
     "output_type": "display_data"
    }
   ],
   "source": [
    "import pandas as pd\n",
    "import matplotlib.pyplot as plt\n",
    "\n",
    "pd.DataFrame(history.history).plot(figsize=(10, 7))\n",
    "plt.grid(True)\n",
    "plt.xlabel(\"epochs\")\n",
    "plt.ylabel(\"error\")\n",
    "plt.show()"
   ]
  },
  {
   "cell_type": "markdown",
   "id": "03748cd6",
   "metadata": {},
   "source": [
    "# 6. Validación con el conjunto de datos de pruebas\n"
   ]
  },
  {
   "cell_type": "code",
   "execution_count": 30,
   "id": "2564d04a",
   "metadata": {},
   "outputs": [
    {
     "name": "stdout",
     "output_type": "stream",
     "text": [
      "2/2 [==============================] - 0s 5ms/step - loss: 51.4402\n"
     ]
    }
   ],
   "source": [
    "test_loss = network.evaluate(X_test_prep, y_test)"
   ]
  },
  {
   "cell_type": "code",
   "execution_count": 31,
   "id": "62403719",
   "metadata": {},
   "outputs": [
    {
     "name": "stdout",
     "output_type": "stream",
     "text": [
      "test_mse:  51.44023513793945\n"
     ]
    }
   ],
   "source": [
    "print(\"test_mse: \", test_loss)"
   ]
  },
  {
   "cell_type": "markdown",
   "id": "467c1d3f",
   "metadata": {},
   "source": [
    "# 7. Predicción de nuevos ejemplos"
   ]
  },
  {
   "cell_type": "code",
   "execution_count": 32,
   "id": "3916cbde",
   "metadata": {},
   "outputs": [],
   "source": [
    "# Suponemos que X_new es un nuevo ejemplo que el algoritmo no ha visto nunca\n",
    "X_new = X_test[30]"
   ]
  },
  {
   "cell_type": "code",
   "execution_count": 33,
   "id": "317f21d0",
   "metadata": {},
   "outputs": [
    {
     "data": {
      "text/html": [
       "<div>\n",
       "<style scoped>\n",
       "    .dataframe tbody tr th:only-of-type {\n",
       "        vertical-align: middle;\n",
       "    }\n",
       "\n",
       "    .dataframe tbody tr th {\n",
       "        vertical-align: top;\n",
       "    }\n",
       "\n",
       "    .dataframe thead th {\n",
       "        text-align: right;\n",
       "    }\n",
       "</style>\n",
       "<table border=\"1\" class=\"dataframe\">\n",
       "  <thead>\n",
       "    <tr style=\"text-align: right;\">\n",
       "      <th></th>\n",
       "      <th>CRIM</th>\n",
       "      <th>ZN</th>\n",
       "      <th>INDUS</th>\n",
       "      <th>CHAS</th>\n",
       "      <th>NOX</th>\n",
       "      <th>RM</th>\n",
       "      <th>AGE</th>\n",
       "      <th>DIS</th>\n",
       "      <th>RAD</th>\n",
       "      <th>TAX</th>\n",
       "      <th>PTRATIO</th>\n",
       "      <th>B</th>\n",
       "      <th>LSTAT</th>\n",
       "    </tr>\n",
       "  </thead>\n",
       "  <tbody>\n",
       "    <tr>\n",
       "      <th>0</th>\n",
       "      <td>0.09266</td>\n",
       "      <td>34.0</td>\n",
       "      <td>6.09</td>\n",
       "      <td>0.0</td>\n",
       "      <td>0.433</td>\n",
       "      <td>6.495</td>\n",
       "      <td>18.4</td>\n",
       "      <td>5.4917</td>\n",
       "      <td>7.0</td>\n",
       "      <td>329.0</td>\n",
       "      <td>16.1</td>\n",
       "      <td>383.61</td>\n",
       "      <td>8.67</td>\n",
       "    </tr>\n",
       "  </tbody>\n",
       "</table>\n",
       "</div>"
      ],
      "text/plain": [
       "      CRIM    ZN  INDUS  CHAS    NOX     RM   AGE     DIS  RAD    TAX  \\\n",
       "0  0.09266  34.0   6.09   0.0  0.433  6.495  18.4  5.4917  7.0  329.0   \n",
       "\n",
       "   PTRATIO       B  LSTAT  \n",
       "0     16.1  383.61   8.67  "
      ]
     },
     "execution_count": 33,
     "metadata": {},
     "output_type": "execute_result"
    }
   ],
   "source": [
    "# Representación gráfica del nuevo ejemplo que queremos predecir\n",
    "features = [\"CRIM\", \"ZN\", \"INDUS\", \"CHAS\", \"NOX\", \"RM\", \"AGE\", \"DIS\", \"RAD\", \"TAX\", \"PTRATIO\", \"B\", \"LSTAT\", \"MEDV\"]\n",
    "\n",
    "df_new = pd.DataFrame([X_new], columns = features[:-1])\n",
    "df_new.head(10)"
   ]
  },
  {
   "cell_type": "code",
   "execution_count": 34,
   "id": "c7e1a8c7",
   "metadata": {},
   "outputs": [
    {
     "name": "stderr",
     "output_type": "stream",
     "text": [
      "C:\\DataSciencePython\\envs\\curso_deep_learning\\lib\\site-packages\\sklearn\\base.py:402: UserWarning: X has feature names, but RobustScaler was fitted without feature names\n",
      "  warnings.warn(\n"
     ]
    }
   ],
   "source": [
    "# Preprocesamos el nuevo ejemplo\n",
    "X_new_prep = scaler.transform(df_new)"
   ]
  },
  {
   "cell_type": "code",
   "execution_count": 35,
   "id": "91481361",
   "metadata": {},
   "outputs": [
    {
     "name": "stdout",
     "output_type": "stream",
     "text": [
      "1/1 [==============================] - 0s 168ms/step\n"
     ]
    }
   ],
   "source": [
    "# Realizamos la predicción\n",
    "y_predict = network.predict(X_new_prep)"
   ]
  },
  {
   "cell_type": "code",
   "execution_count": 36,
   "id": "7ebc01af",
   "metadata": {},
   "outputs": [
    {
     "data": {
      "text/plain": [
       "array([[31.22]], dtype=float32)"
      ]
     },
     "execution_count": 36,
     "metadata": {},
     "output_type": "execute_result"
    }
   ],
   "source": [
    "y_predict.round(2)"
   ]
  },
  {
   "cell_type": "code",
   "execution_count": 37,
   "id": "1681fb7c",
   "metadata": {},
   "outputs": [
    {
     "name": "stdout",
     "output_type": "stream",
     "text": [
      "Predicción:  [[31.22]]\n",
      "Valor original:  26.4\n"
     ]
    }
   ],
   "source": [
    "# Comparamos la predicción con el valor original\n",
    "print(\"Predicción: \", y_predict.round(2))\n",
    "print(\"Valor original: \", y_test[30])"
   ]
  },
  {
   "cell_type": "markdown",
   "id": "628eb246",
   "metadata": {},
   "source": [
    "# 8. Guardar modelo en disco"
   ]
  },
  {
   "cell_type": "markdown",
   "id": "60dd19d0",
   "metadata": {},
   "source": [
    "Con Keras generamos la arquitectura de la red neuronal, la entrenamos y después la evaluamos. Existen diferentes alternativas a la hora de exportar el modelo entrenado (https://keras.io/getting_started/faq/#what-are-my-options-for-saving-models), en este caso se expone una de las más utilizadas.\n",
    "\n",
    "De la forma que se indica a continuación, vamos a exportar en un fichero los siguientes componentes de la red neuronal: \n",
    "* La arquitectura del modelo\n",
    "* Los parámetros del modelo\n",
    "* Los hiperparámetros del modelo\n",
    "* Las métricas"
   ]
  },
  {
   "cell_type": "code",
   "execution_count": 38,
   "id": "2a3510e7",
   "metadata": {},
   "outputs": [],
   "source": [
    "# Guardamos el modelo en disco\n",
    "network.save(\"modelo_boston_housing.h5\")"
   ]
  },
  {
   "cell_type": "code",
   "execution_count": null,
   "id": "5fd28940",
   "metadata": {},
   "outputs": [],
   "source": []
  },
  {
   "cell_type": "code",
   "execution_count": null,
   "id": "0add6e43",
   "metadata": {},
   "outputs": [],
   "source": []
  },
  {
   "cell_type": "code",
   "execution_count": null,
   "id": "a2616628",
   "metadata": {},
   "outputs": [],
   "source": []
  },
  {
   "cell_type": "code",
   "execution_count": null,
   "id": "9cdd66dd",
   "metadata": {},
   "outputs": [],
   "source": []
  },
  {
   "cell_type": "code",
   "execution_count": null,
   "id": "bf160994",
   "metadata": {},
   "outputs": [],
   "source": []
  },
  {
   "cell_type": "code",
   "execution_count": null,
   "id": "3a1a45aa",
   "metadata": {},
   "outputs": [],
   "source": []
  }
 ],
 "metadata": {
  "kernelspec": {
   "display_name": "Python 3 (ipykernel)",
   "language": "python",
   "name": "python3"
  },
  "language_info": {
   "codemirror_mode": {
    "name": "ipython",
    "version": 3
   },
   "file_extension": ".py",
   "mimetype": "text/x-python",
   "name": "python",
   "nbconvert_exporter": "python",
   "pygments_lexer": "ipython3",
   "version": "3.8.16"
  }
 },
 "nbformat": 4,
 "nbformat_minor": 5
}
