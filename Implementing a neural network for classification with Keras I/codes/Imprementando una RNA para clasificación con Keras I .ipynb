{
 "cells": [
  {
   "cell_type": "markdown",
   "id": "48d2a474",
   "metadata": {},
   "source": [
    "# Introducción a Keras: Implementando una RNA para clasificación"
   ]
  },
  {
   "cell_type": "markdown",
   "id": "afdb9262",
   "metadata": {},
   "source": [
    "## Pasos en la implementación de una Red Neuronal Artificial en Keras"
   ]
  },
  {
   "cell_type": "markdown",
   "id": "fffb44f8",
   "metadata": {},
   "source": [
    "1. Define tu conjunto de datos de entrenamiento: vectores de entrada y de salida\n",
    "2. Define la arquitectura de la Red Neuronal Artificial\n",
    "3. Configura el proceso de aprendizaje mediante la seleccion de una funcion de error, una funcion de optimizacion y diferentes metricas para monitorizar el proceso\n",
    "4. Entrena la RNA con tu conjunto de datos de entrenamiento mediante el uso del metodo **_fit()_**"
   ]
  },
  {
   "cell_type": "markdown",
   "id": "0193a8b4",
   "metadata": {},
   "source": [
    "## 0. Imports"
   ]
  },
  {
   "cell_type": "markdown",
   "id": "c1cdd93a",
   "metadata": {},
   "source": [
    "Lo primero que debe hacerse es importar las librerías específicas necesarias para la implementación de la Red Neuronal Artificial. En las nuevas versiones de Tensorflow y Keras, la recomendación es utilizar keras a través del framework Tensorflow"
   ]
  },
  {
   "cell_type": "code",
   "execution_count": 1,
   "id": "196ffcbb",
   "metadata": {},
   "outputs": [
    {
     "data": {
      "text/plain": [
       "'2.10.0'"
      ]
     },
     "execution_count": 1,
     "metadata": {},
     "output_type": "execute_result"
    }
   ],
   "source": [
    "import tensorflow as tf\n",
    "\n",
    "tf.__version__"
   ]
  },
  {
   "cell_type": "code",
   "execution_count": 2,
   "id": "096ba687",
   "metadata": {},
   "outputs": [
    {
     "data": {
      "text/plain": [
       "'2.10.0'"
      ]
     },
     "execution_count": 2,
     "metadata": {},
     "output_type": "execute_result"
    }
   ],
   "source": [
    "from tensorflow import keras\n",
    "\n",
    "keras.__version__"
   ]
  },
  {
   "cell_type": "markdown",
   "id": "ef49a273",
   "metadata": {},
   "source": [
    "# 1. Definicion del conjunto de datos de entrenamiento"
   ]
  },
  {
   "cell_type": "markdown",
   "id": "f0a602e5",
   "metadata": {},
   "source": [
    "## 1.1 Importando el conjunto de datos"
   ]
  },
  {
   "cell_type": "markdown",
   "id": "286ad5ab",
   "metadata": {},
   "source": [
    "Keras nos proporciona algunos conjuntos de datos de prueba que podemos utilizar para la realización de pruebas"
   ]
  },
  {
   "cell_type": "code",
   "execution_count": 3,
   "id": "e2c0f5c4",
   "metadata": {},
   "outputs": [],
   "source": [
    "from tensorflow.keras import datasets"
   ]
  },
  {
   "cell_type": "markdown",
   "id": "98233040",
   "metadata": {},
   "source": [
    "Podemos utilizar tab sobre \"datasets\" para visualizar los conjuntos de datos disponibles. En este caso vamos a  importar el conjunto de datos MNIST."
   ]
  },
  {
   "cell_type": "code",
   "execution_count": 4,
   "id": "39b9ec2c",
   "metadata": {},
   "outputs": [],
   "source": [
    "mnist = datasets.mnist"
   ]
  },
  {
   "cell_type": "markdown",
   "id": "52f09ec8",
   "metadata": {},
   "source": [
    "Podemos utilizar shift + tab sobre \"load_data()\" para visualizar el input y el output del método."
   ]
  },
  {
   "cell_type": "code",
   "execution_count": 5,
   "id": "baf97c1d",
   "metadata": {},
   "outputs": [],
   "source": [
    "(X_train, y_train), (X_test, y_test) = mnist.load_data()"
   ]
  },
  {
   "cell_type": "markdown",
   "id": "6b1231a3",
   "metadata": {},
   "source": [
    "El conjunto de datos importado esta formado por un total de 70,000 imágenes divididas en dos conjuntos de daots, el conjunto de datos de entrenamiento X_train(60,000 imágenes) y el conjunto de datos de pruebas (10,000 imágenes)"
   ]
  },
  {
   "cell_type": "code",
   "execution_count": 6,
   "id": "62948729",
   "metadata": {},
   "outputs": [
    {
     "data": {
      "text/plain": [
       "(60000, 28, 28)"
      ]
     },
     "execution_count": 6,
     "metadata": {},
     "output_type": "execute_result"
    }
   ],
   "source": [
    "X_train.shape"
   ]
  },
  {
   "cell_type": "code",
   "execution_count": 12,
   "id": "48336daf",
   "metadata": {},
   "outputs": [
    {
     "data": {
      "text/plain": [
       "(10000, 28, 28)"
      ]
     },
     "execution_count": 12,
     "metadata": {},
     "output_type": "execute_result"
    }
   ],
   "source": [
    "X_test.shape"
   ]
  },
  {
   "cell_type": "markdown",
   "id": "f8e04d2a",
   "metadata": {},
   "source": [
    "Las etiquetas se corresponden con el valor numérico que representa la imágen. "
   ]
  },
  {
   "cell_type": "code",
   "execution_count": 9,
   "id": "07972fc8",
   "metadata": {},
   "outputs": [
    {
     "data": {
      "text/plain": [
       "(60000,)"
      ]
     },
     "execution_count": 9,
     "metadata": {},
     "output_type": "execute_result"
    }
   ],
   "source": [
    "y_train.shape"
   ]
  },
  {
   "cell_type": "code",
   "execution_count": 10,
   "id": "cd14b3a1",
   "metadata": {},
   "outputs": [
    {
     "data": {
      "text/plain": [
       "array([5, 0, 4, ..., 5, 6, 8], dtype=uint8)"
      ]
     },
     "execution_count": 10,
     "metadata": {},
     "output_type": "execute_result"
    }
   ],
   "source": [
    "y_train"
   ]
  },
  {
   "cell_type": "code",
   "execution_count": 11,
   "id": "31c73a31",
   "metadata": {},
   "outputs": [
    {
     "data": {
      "text/plain": [
       "5"
      ]
     },
     "execution_count": 11,
     "metadata": {},
     "output_type": "execute_result"
    }
   ],
   "source": [
    "y_train[0]"
   ]
  },
  {
   "cell_type": "markdown",
   "id": "214ab13c",
   "metadata": {},
   "source": [
    "# 1.2 Visualizando el conjunto de datos"
   ]
  },
  {
   "cell_type": "code",
   "execution_count": 13,
   "id": "68c052d8",
   "metadata": {},
   "outputs": [],
   "source": [
    "import numpy as np\n",
    "import matplotlib.pyplot as plt"
   ]
  },
  {
   "cell_type": "code",
   "execution_count": 14,
   "id": "53d6967a",
   "metadata": {},
   "outputs": [
    {
     "data": {
      "image/png": "[encoded data removed]",
      "text/plain": [
       "<Figure size 2000x400 with 8 Axes>"
      ]
     },
     "metadata": {},
     "output_type": "display_data"
    }
   ],
   "source": [
    "# Visualización de los primeros 8 ejemplos de nuestro conjunto de datos de entrenamiento\n",
    "plt.figure(figsize = (20,4))\n",
    "\n",
    "for index, digit in zip(range(1,9), X_train[:8]):\n",
    "    plt.subplot(1, 8, index)\n",
    "    plt.imshow(np.reshape(digit, (28,28)), cmap = plt.cm.gray)\n",
    "    plt.title('Ejemplo: ' + str(index))\n",
    "    \n",
    "plt.show()"
   ]
  },
  {
   "cell_type": "markdown",
   "id": "4082eabd",
   "metadata": {},
   "source": [
    "# 1.3 División del conjunto de datos"
   ]
  },
  {
   "cell_type": "markdown",
   "id": "c777754d",
   "metadata": {},
   "source": [
    "Para la realización de una serie de pruebas adicionales vamos a divir el conjunto de datos a prueba en dos subconjuntos, el conjunto de validación (X_val) y el conjunto de pruebas (X_test)"
   ]
  },
  {
   "cell_type": "code",
   "execution_count": 15,
   "id": "9d31df38",
   "metadata": {},
   "outputs": [],
   "source": [
    "from sklearn.model_selection import train_test_split\n",
    "\n",
    "X_test, X_val, y_test, y_val = train_test_split(X_test, y_test, test_size = 0.5)"
   ]
  },
  {
   "cell_type": "code",
   "execution_count": 16,
   "id": "9c7a8b04",
   "metadata": {},
   "outputs": [
    {
     "data": {
      "text/plain": [
       "(5000, 28, 28)"
      ]
     },
     "execution_count": 16,
     "metadata": {},
     "output_type": "execute_result"
    }
   ],
   "source": [
    "X_test.shape"
   ]
  },
  {
   "cell_type": "code",
   "execution_count": 17,
   "id": "9ef1f615",
   "metadata": {},
   "outputs": [
    {
     "data": {
      "text/plain": [
       "(5000, 28, 28)"
      ]
     },
     "execution_count": 17,
     "metadata": {},
     "output_type": "execute_result"
    }
   ],
   "source": [
    "X_val.shape"
   ]
  },
  {
   "cell_type": "markdown",
   "id": "85a91486",
   "metadata": {},
   "source": [
    "# 2. Definicion de la arquitectura de la red neuronal artificial"
   ]
  },
  {
   "cell_type": "markdown",
   "id": "0f3d7ead",
   "metadata": {},
   "source": [
    "Tal y como podéis observar en la definición de la Red Neuronal Artificial que se muestra a continuación, el bloque básico que utiliza Keras es la **layer** o capa. La red Neuronal estará formada por diferentes capas que a su vez contendrán un conjunto de neuronas que se corresponden con el primer parámetro que se le proporciona."
   ]
  },
  {
   "cell_type": "code",
   "execution_count": 18,
   "id": "cb0be127",
   "metadata": {},
   "outputs": [],
   "source": [
    "from tensorflow.keras import models\n",
    "from tensorflow.keras import layers"
   ]
  },
  {
   "cell_type": "markdown",
   "id": "1c64e65c",
   "metadata": {},
   "source": [
    "Definimos una Red Neuronal Artificial formada por 3 capas:\n",
    "* La primera capa estará formada por 300 neuronas\n",
    "* La segunda capa estará formada por 100 neuronas\n",
    "* La última capa estará formada por 10 neuronas"
   ]
  },
  {
   "cell_type": "code",
   "execution_count": 19,
   "id": "4be03ada",
   "metadata": {},
   "outputs": [],
   "source": [
    "network = models.Sequential()\n",
    "\n",
    "network.add(layers.Dense(300, activation ='relu', input_shape = (28*28,))) #dense ayuda a que todas los outputs sean los inputs de las siguientes capas\n",
    "network.add(layers.Dense(100, activation ='relu'))\n",
    "network.add(layers.Dense(10, activation ='softmax'))"
   ]
  },
  {
   "cell_type": "markdown",
   "id": "42d9abc0",
   "metadata": {},
   "source": [
    "Una vez hemos definido la arquitectura de l RNA podemos visualizarla junto con el numero total de parametros utilizando el metodo summary()"
   ]
  },
  {
   "cell_type": "code",
   "execution_count": 20,
   "id": "56125288",
   "metadata": {},
   "outputs": [
    {
     "name": "stdout",
     "output_type": "stream",
     "text": [
      "Model: \"sequential\"\n",
      "_________________________________________________________________\n",
      " Layer (type)                Output Shape              Param #   \n",
      "=================================================================\n",
      " dense (Dense)               (None, 300)               235500    \n",
      "                                                                 \n",
      " dense_1 (Dense)             (None, 100)               30100     \n",
      "                                                                 \n",
      " dense_2 (Dense)             (None, 10)                1010      \n",
      "                                                                 \n",
      "=================================================================\n",
      "Total params: 266,610\n",
      "Trainable params: 266,610\n",
      "Non-trainable params: 0\n",
      "_________________________________________________________________\n"
     ]
    }
   ],
   "source": [
    "network.summary()"
   ]
  },
  {
   "cell_type": "markdown",
   "id": "8fd2ecfe",
   "metadata": {},
   "source": [
    "las imagenes son de 28*28, por lo que el numero de caracteristicas de entrada serian de 784.\n",
    "\n",
    "28*28 * 300 + 300 = 235500\n",
    "\n",
    "300 * 100 + 100 = 30100\n",
    "\n",
    "10 * 100 + 10 = 1010"
   ]
  },
  {
   "cell_type": "markdown",
   "id": "37ef67ba",
   "metadata": {},
   "source": [
    "# 2.2 Acceso a los elementos definidos de la RNA"
   ]
  },
  {
   "cell_type": "code",
   "execution_count": 21,
   "id": "bb0b694c",
   "metadata": {},
   "outputs": [
    {
     "data": {
      "text/plain": [
       "[<keras.layers.core.dense.Dense at 0x21297933820>,\n",
       " <keras.layers.core.dense.Dense at 0x212979333d0>,\n",
       " <keras.layers.core.dense.Dense at 0x212956527c0>]"
      ]
     },
     "execution_count": 21,
     "metadata": {},
     "output_type": "execute_result"
    }
   ],
   "source": [
    "network.layers"
   ]
  },
  {
   "cell_type": "markdown",
   "id": "5aa40ab4",
   "metadata": {},
   "source": [
    "En este caso vamos a acceder a los parámetros del modelo que componen las neuronas de la primera hidden layer"
   ]
  },
  {
   "cell_type": "code",
   "execution_count": 22,
   "id": "2f085ef7",
   "metadata": {},
   "outputs": [],
   "source": [
    "hidden1 = network.layers[1]"
   ]
  },
  {
   "cell_type": "code",
   "execution_count": 23,
   "id": "0a016df1",
   "metadata": {},
   "outputs": [],
   "source": [
    "weights, biases = hidden1.get_weights()"
   ]
  },
  {
   "cell_type": "markdown",
   "id": "1fbefd39",
   "metadata": {},
   "source": [
    "Como puede observarse en las siguientes celdas, Keras automaticamente inicializa el valor de los parámetros de maner aleatoria y los bias term con el valor 0"
   ]
  },
  {
   "cell_type": "code",
   "execution_count": 24,
   "id": "61c64e91",
   "metadata": {},
   "outputs": [
    {
     "data": {
      "text/plain": [
       "array([[-0.04424682, -0.08260918, -0.08141741, ..., -0.0476221 ,\n",
       "        -0.08834556, -0.0086538 ],\n",
       "       [-0.10743314,  0.00328628, -0.08450857, ...,  0.07986439,\n",
       "         0.01023386, -0.08325714],\n",
       "       [ 0.00137579, -0.03309853, -0.04682359, ..., -0.01732328,\n",
       "        -0.05818083, -0.11045846],\n",
       "       ...,\n",
       "       [-0.12195683,  0.07155817, -0.03899326, ...,  0.04028297,\n",
       "         0.11890595,  0.04336994],\n",
       "       [ 0.08408105, -0.08651079, -0.02844102, ..., -0.08201908,\n",
       "         0.12179523,  0.11783927],\n",
       "       [-0.09492086, -0.0973544 , -0.05758111, ...,  0.09708586,\n",
       "         0.01784436, -0.10576949]], dtype=float32)"
      ]
     },
     "execution_count": 24,
     "metadata": {},
     "output_type": "execute_result"
    }
   ],
   "source": [
    "weights"
   ]
  },
  {
   "cell_type": "code",
   "execution_count": 25,
   "id": "024519d8",
   "metadata": {},
   "outputs": [
    {
     "data": {
      "text/plain": [
       "array([0., 0., 0., 0., 0., 0., 0., 0., 0., 0., 0., 0., 0., 0., 0., 0., 0.,\n",
       "       0., 0., 0., 0., 0., 0., 0., 0., 0., 0., 0., 0., 0., 0., 0., 0., 0.,\n",
       "       0., 0., 0., 0., 0., 0., 0., 0., 0., 0., 0., 0., 0., 0., 0., 0., 0.,\n",
       "       0., 0., 0., 0., 0., 0., 0., 0., 0., 0., 0., 0., 0., 0., 0., 0., 0.,\n",
       "       0., 0., 0., 0., 0., 0., 0., 0., 0., 0., 0., 0., 0., 0., 0., 0., 0.,\n",
       "       0., 0., 0., 0., 0., 0., 0., 0., 0., 0., 0., 0., 0., 0., 0.],\n",
       "      dtype=float32)"
      ]
     },
     "execution_count": 25,
     "metadata": {},
     "output_type": "execute_result"
    }
   ],
   "source": [
    "biases"
   ]
  },
  {
   "cell_type": "markdown",
   "id": "9694691c",
   "metadata": {},
   "source": [
    "# 3. Configuración de la Red Neuronal Artificial"
   ]
  },
  {
   "cell_type": "markdown",
   "id": "18c8a41c",
   "metadata": {},
   "source": [
    "Para que la Red Neuronal Artificial funcione adecuadamente va a requerir tres componentes adicionales que se seleccionan durante el proceso de compilación:\n",
    "1. **La función de error**: Se utiliza en el proceso de optimización de los parámetros del modelo para medir el error  producido al modificar el valor de los parámetros del modelo en una dirección determinada\n",
    "2. **La función de optimización**: Se corresponde con la función encargada de actualizar el valor de los parámetros del modelo en una dirección determinada en función del resultado de la función de error\n",
    "3. **Metricas para monitorizar el proceso de entrenamiento**: Es interesante utilizar un conjunto de métricas durante el proceso de entrenamiento de la Red Neuronal Artificial de manera que podamos saber en cada iteración si el valor de los parámetros del modelo es adecuado o se están produciendo problemas como *overfitting*"
   ]
  },
  {
   "cell_type": "code",
   "execution_count": 26,
   "id": "fc69e0fe",
   "metadata": {},
   "outputs": [],
   "source": [
    "network.compile(loss = 'categorical_crossentropy', optimizer = 'sgd', metrics = ['accuracy', 'Precision'])"
   ]
  },
  {
   "cell_type": "markdown",
   "id": "0335cc7d",
   "metadata": {},
   "source": [
    "# 4. Preparación del conjunto de datos"
   ]
  },
  {
   "cell_type": "markdown",
   "id": "fdea9f03",
   "metadata": {},
   "source": [
    "Debido a la forma en la que hemos definido la arquitectura de nuestra Red Neuronal Artificial y los parámetros de compilación, vamos a requerir realizar algunas transformaciones sobre nuestro conjunto de datos"
   ]
  },
  {
   "cell_type": "code",
   "execution_count": 27,
   "id": "b73ade75",
   "metadata": {},
   "outputs": [],
   "source": [
    "X_train_prep = X_train.reshape((60000, 28*28))\n",
    "X_train_prep = X_train_prep.astype('float32') / 255\n",
    "\n",
    "X_test_prep = X_test.reshape((5000, 28*28))\n",
    "X_test_prep = X_test_prep.astype('float32') / 255\n",
    "\n",
    "X_val_prep = X_val.reshape((5000, 28*28))\n",
    "X_val_prep = X_val_prep.astype('float32') / 255"
   ]
  },
  {
   "cell_type": "code",
   "execution_count": 28,
   "id": "68b787f9",
   "metadata": {},
   "outputs": [
    {
     "data": {
      "text/plain": [
       "(60000, 28, 28)"
      ]
     },
     "execution_count": 28,
     "metadata": {},
     "output_type": "execute_result"
    }
   ],
   "source": [
    "X_train.shape"
   ]
  },
  {
   "cell_type": "code",
   "execution_count": 29,
   "id": "c5642e9a",
   "metadata": {},
   "outputs": [
    {
     "data": {
      "text/plain": [
       "(60000, 784)"
      ]
     },
     "execution_count": 29,
     "metadata": {},
     "output_type": "execute_result"
    }
   ],
   "source": [
    "X_train_prep.shape"
   ]
  },
  {
   "cell_type": "markdown",
   "id": "b05377ca",
   "metadata": {},
   "source": [
    "# 4.2 Preparación de las características de salida (etiquetas)"
   ]
  },
  {
   "cell_type": "code",
   "execution_count": 32,
   "id": "5607959e",
   "metadata": {},
   "outputs": [],
   "source": [
    "from tensorflow.keras.utils import to_categorical\n",
    "\n",
    "y_train_prep = to_categorical(y_train)\n",
    "y_test_prep = to_categorical(y_test)\n",
    "y_val_prep = to_categorical(y_val)"
   ]
  },
  {
   "cell_type": "code",
   "execution_count": 34,
   "id": "11baa40d",
   "metadata": {},
   "outputs": [
    {
     "data": {
      "text/plain": [
       "array([5, 0, 4, ..., 5, 6, 8], dtype=uint8)"
      ]
     },
     "execution_count": 34,
     "metadata": {},
     "output_type": "execute_result"
    }
   ],
   "source": [
    "y_train"
   ]
  },
  {
   "cell_type": "code",
   "execution_count": 36,
   "id": "f956194d",
   "metadata": {},
   "outputs": [
    {
     "data": {
      "text/plain": [
       "array([[0., 0., 0., ..., 0., 0., 0.],\n",
       "       [1., 0., 0., ..., 0., 0., 0.],\n",
       "       [0., 0., 0., ..., 0., 0., 0.],\n",
       "       ...,\n",
       "       [0., 0., 0., ..., 0., 0., 0.],\n",
       "       [0., 0., 0., ..., 0., 0., 0.],\n",
       "       [0., 0., 0., ..., 0., 1., 0.]], dtype=float32)"
      ]
     },
     "execution_count": 36,
     "metadata": {},
     "output_type": "execute_result"
    }
   ],
   "source": [
    " y_train_prep # convertimos y_train(etiquetas) a un vector -- > y_train_prep"
   ]
  },
  {
   "cell_type": "markdown",
   "id": "b4e381ea",
   "metadata": {},
   "source": [
    "# 5. Entrenamiento de la Red Neuronal Artificial"
   ]
  },
  {
   "cell_type": "markdown",
   "id": "34aa6b13",
   "metadata": {},
   "source": [
    "En este punto ya estamos listos para entrenar nuestra Red Neuronal Artificial invocando el método *fit()*. Una de las capacidades que nos proporciona Keras es la de integrar el proceso de validación en el propio proceso de entrenamiento, para ello, junto con el subconjunto de datos de entrenamiento, debemos proporcionarle a este método el subconjunto de validación."
   ]
  },
  {
   "cell_type": "code",
   "execution_count": 40,
   "id": "7b61ef4d",
   "metadata": {},
   "outputs": [
    {
     "name": "stdout",
     "output_type": "stream",
     "text": [
      "Epoch 1/30\n",
      "1875/1875 [==============================] - 7s 4ms/step - loss: 0.0883 - accuracy: 0.9751 - precision: 0.9805 - val_loss: 0.0970 - val_accuracy: 0.9698 - val_precision: 0.9748\n",
      "Epoch 2/30\n",
      "1875/1875 [==============================] - 7s 4ms/step - loss: 0.0813 - accuracy: 0.9772 - precision: 0.9822 - val_loss: 0.0939 - val_accuracy: 0.9692 - val_precision: 0.9755\n",
      "Epoch 3/30\n",
      "1875/1875 [==============================] - 8s 4ms/step - loss: 0.0751 - accuracy: 0.9794 - precision: 0.9837 - val_loss: 0.0907 - val_accuracy: 0.9704 - val_precision: 0.9754\n",
      "Epoch 4/30\n",
      "1875/1875 [==============================] - 14s 7ms/step - loss: 0.0694 - accuracy: 0.9803 - precision: 0.9845 - val_loss: 0.0863 - val_accuracy: 0.9722 - val_precision: 0.9774\n",
      "Epoch 5/30\n",
      "1875/1875 [==============================] - 14s 7ms/step - loss: 0.0647 - accuracy: 0.9820 - precision: 0.9856 - val_loss: 0.0873 - val_accuracy: 0.9724 - val_precision: 0.9778\n",
      "Epoch 6/30\n",
      "1875/1875 [==============================] - 14s 7ms/step - loss: 0.0599 - accuracy: 0.9836 - precision: 0.9868 - val_loss: 0.0786 - val_accuracy: 0.9748 - val_precision: 0.9798\n",
      "Epoch 7/30\n",
      "1875/1875 [==============================] - 14s 8ms/step - loss: 0.0559 - accuracy: 0.9851 - precision: 0.9884 - val_loss: 0.0794 - val_accuracy: 0.9750 - val_precision: 0.9792\n",
      "Epoch 8/30\n",
      "1875/1875 [==============================] - 14s 8ms/step - loss: 0.0523 - accuracy: 0.9859 - precision: 0.9887 - val_loss: 0.0763 - val_accuracy: 0.9756 - val_precision: 0.9806\n",
      "Epoch 9/30\n",
      "1875/1875 [==============================] - 14s 7ms/step - loss: 0.0491 - accuracy: 0.9870 - precision: 0.9896 - val_loss: 0.0752 - val_accuracy: 0.9742 - val_precision: 0.9792\n",
      "Epoch 10/30\n",
      "1875/1875 [==============================] - 8s 4ms/step - loss: 0.0460 - accuracy: 0.9875 - precision: 0.9899 - val_loss: 0.0751 - val_accuracy: 0.9746 - val_precision: 0.9796\n",
      "Epoch 11/30\n",
      "1875/1875 [==============================] - 8s 4ms/step - loss: 0.0431 - accuracy: 0.9889 - precision: 0.9910 - val_loss: 0.0729 - val_accuracy: 0.9760 - val_precision: 0.9803\n",
      "Epoch 12/30\n",
      "1875/1875 [==============================] - 8s 4ms/step - loss: 0.0405 - accuracy: 0.9895 - precision: 0.9916 - val_loss: 0.0751 - val_accuracy: 0.9746 - val_precision: 0.9790\n",
      "Epoch 13/30\n",
      "1875/1875 [==============================] - 8s 4ms/step - loss: 0.0382 - accuracy: 0.9900 - precision: 0.9920 - val_loss: 0.0701 - val_accuracy: 0.9760 - val_precision: 0.9801\n",
      "Epoch 14/30\n",
      "1875/1875 [==============================] - 8s 4ms/step - loss: 0.0356 - accuracy: 0.9909 - precision: 0.9928 - val_loss: 0.0688 - val_accuracy: 0.9764 - val_precision: 0.9797\n",
      "Epoch 15/30\n",
      "1875/1875 [==============================] - 8s 4ms/step - loss: 0.0338 - accuracy: 0.9917 - precision: 0.9934 - val_loss: 0.0693 - val_accuracy: 0.9754 - val_precision: 0.9805\n",
      "Epoch 16/30\n",
      "1875/1875 [==============================] - 8s 4ms/step - loss: 0.0321 - accuracy: 0.9923 - precision: 0.9939 - val_loss: 0.0686 - val_accuracy: 0.9760 - val_precision: 0.9801\n",
      "Epoch 17/30\n",
      "1875/1875 [==============================] - 8s 5ms/step - loss: 0.0302 - accuracy: 0.9928 - precision: 0.9945 - val_loss: 0.0685 - val_accuracy: 0.9762 - val_precision: 0.9793\n",
      "Epoch 18/30\n",
      "1875/1875 [==============================] - 8s 4ms/step - loss: 0.0284 - accuracy: 0.9934 - precision: 0.9949 - val_loss: 0.0664 - val_accuracy: 0.9768 - val_precision: 0.9811\n",
      "Epoch 19/30\n",
      "1875/1875 [==============================] - 8s 4ms/step - loss: 0.0269 - accuracy: 0.9941 - precision: 0.9953 - val_loss: 0.0674 - val_accuracy: 0.9756 - val_precision: 0.9785\n",
      "Epoch 20/30\n",
      "1875/1875 [==============================] - 8s 4ms/step - loss: 0.0253 - accuracy: 0.9945 - precision: 0.9958 - val_loss: 0.0692 - val_accuracy: 0.9764 - val_precision: 0.9793\n",
      "Epoch 21/30\n",
      "1875/1875 [==============================] - 8s 4ms/step - loss: 0.0240 - accuracy: 0.9948 - precision: 0.9959 - val_loss: 0.0661 - val_accuracy: 0.9770 - val_precision: 0.9795\n",
      "Epoch 22/30\n",
      "1875/1875 [==============================] - 8s 4ms/step - loss: 0.0227 - accuracy: 0.9951 - precision: 0.9963 - val_loss: 0.0662 - val_accuracy: 0.9770 - val_precision: 0.9795\n",
      "Epoch 23/30\n",
      "1875/1875 [==============================] - 8s 4ms/step - loss: 0.0215 - accuracy: 0.9957 - precision: 0.9967 - val_loss: 0.0650 - val_accuracy: 0.9778 - val_precision: 0.9805\n",
      "Epoch 24/30\n",
      "1875/1875 [==============================] - 8s 5ms/step - loss: 0.0202 - accuracy: 0.9962 - precision: 0.9970 - val_loss: 0.0664 - val_accuracy: 0.9776 - val_precision: 0.9789\n",
      "Epoch 25/30\n",
      "1875/1875 [==============================] - 8s 4ms/step - loss: 0.0193 - accuracy: 0.9965 - precision: 0.9972 - val_loss: 0.0654 - val_accuracy: 0.9774 - val_precision: 0.9803\n",
      "Epoch 26/30\n",
      "1875/1875 [==============================] - 8s 4ms/step - loss: 0.0181 - accuracy: 0.9967 - precision: 0.9974 - val_loss: 0.0640 - val_accuracy: 0.9778 - val_precision: 0.9803\n",
      "Epoch 27/30\n",
      "1875/1875 [==============================] - 8s 4ms/step - loss: 0.0173 - accuracy: 0.9970 - precision: 0.9977 - val_loss: 0.0637 - val_accuracy: 0.9776 - val_precision: 0.9793\n",
      "Epoch 28/30\n",
      "1875/1875 [==============================] - 8s 4ms/step - loss: 0.0164 - accuracy: 0.9972 - precision: 0.9977 - val_loss: 0.0652 - val_accuracy: 0.9774 - val_precision: 0.9791\n",
      "Epoch 29/30\n",
      "1875/1875 [==============================] - 8s 4ms/step - loss: 0.0155 - accuracy: 0.9975 - precision: 0.9980 - val_loss: 0.0665 - val_accuracy: 0.9786 - val_precision: 0.9805\n",
      "Epoch 30/30\n",
      "1875/1875 [==============================] - 8s 4ms/step - loss: 0.0147 - accuracy: 0.9980 - precision: 0.9983 - val_loss: 0.0643 - val_accuracy: 0.9780 - val_precision: 0.9803\n"
     ]
    }
   ],
   "source": [
    "history = network.fit(X_train_prep, y_train_prep, epochs=30, validation_data=(X_val_prep, y_val_prep))"
   ]
  },
  {
   "cell_type": "markdown",
   "id": "f08f860e",
   "metadata": {},
   "source": [
    "En la variable ***history*** se almacenan varios valores importantes:\n",
    "* El valor de los parámetros del modelo después del entrenamiento\n",
    "* La lista de *epochs* llevados a cabo\n",
    "* Un diccionario con el error producido en cada *epoch* en el conjunto de datos de entreanamiento y validación"
   ]
  },
  {
   "cell_type": "code",
   "execution_count": 41,
   "id": "49502778",
   "metadata": {},
   "outputs": [
    {
     "data": {
      "image/png": "[encoded data removed]",
      "text/plain": [
       "<Figure size 1000x700 with 1 Axes>"
      ]
     },
     "metadata": {},
     "output_type": "display_data"
    }
   ],
   "source": [
    "import pandas as pd\n",
    "import matplotlib.pyplot as plt\n",
    "\n",
    "pd.DataFrame(history.history).plot(figsize = (10,7))\n",
    "plt.grid(True)\n",
    "plt.gca().set_ylim(0, 1.2)\n",
    "plt.xlabel(\"epochs\")\n",
    "plt.show()"
   ]
  },
  {
   "cell_type": "markdown",
   "id": "a77b1088",
   "metadata": {},
   "source": [
    "Debido a que en la gráfica anterior se observa que el error en el conjunto de datos y de validación sigue disminuyendo, podemos continuar entrenando el algoritmo invocando de nuevo el método *fit()*. Keras continuará el entrenamiento en el punto en el que lo dejó."
   ]
  },
  {
   "cell_type": "markdown",
   "id": "aa7d673f",
   "metadata": {},
   "source": [
    "# 6. Validación con el conjunto de datos de pruebs"
   ]
  },
  {
   "cell_type": "code",
   "execution_count": 42,
   "id": "be4b01b3",
   "metadata": {},
   "outputs": [
    {
     "name": "stdout",
     "output_type": "stream",
     "text": [
      "157/157 [==============================] - 1s 4ms/step - loss: 0.0660 - accuracy: 0.9808 - precision: 0.9841\n"
     ]
    }
   ],
   "source": [
    "test_loss, test_acc, test_prec = network.evaluate(X_test_prep, y_test_prep)"
   ]
  },
  {
   "cell_type": "code",
   "execution_count": 43,
   "id": "7ac18d88",
   "metadata": {},
   "outputs": [
    {
     "name": "stdout",
     "output_type": "stream",
     "text": [
      "test_acc: 0.9807999730110168\n",
      "test_prec: 0.9841142296791077\n"
     ]
    }
   ],
   "source": [
    "print(\"test_acc:\", test_acc)\n",
    "print(\"test_prec:\", test_prec)"
   ]
  },
  {
   "cell_type": "markdown",
   "id": "8cbf9b49",
   "metadata": {},
   "source": [
    "# 7. Predicción de nuevos ejemplos"
   ]
  },
  {
   "cell_type": "code",
   "execution_count": 44,
   "id": "6132f456",
   "metadata": {},
   "outputs": [],
   "source": [
    "# Suponemos que X_new es un nuevo ejemplo que el algoritmo no ha visto nunca\n",
    "X_new = X_test[34]"
   ]
  },
  {
   "cell_type": "code",
   "execution_count": 45,
   "id": "bfebc895",
   "metadata": {},
   "outputs": [
    {
     "data": {
      "image/png": "[encoded data removed]",
      "text/plain": [
       "<Figure size 640x480 with 1 Axes>"
      ]
     },
     "metadata": {},
     "output_type": "display_data"
    }
   ],
   "source": [
    "# Rpresentación gráfica del nuevo ejemplo que queremos predecir\n",
    "plt.imshow(np.reshape(X_new, (28,28)), cmap=plt.cm.gray)\n",
    "plt.show()"
   ]
  },
  {
   "cell_type": "code",
   "execution_count": 46,
   "id": "adb91803",
   "metadata": {},
   "outputs": [],
   "source": [
    "# Preprocesamos la nueva que queremos predecir\n",
    "X_new_prep = X_new.reshape((1, 28*28))\n",
    "X_new_prep = X_new_prep.astype('float32') / 255"
   ]
  },
  {
   "cell_type": "code",
   "execution_count": 47,
   "id": "046a82c8",
   "metadata": {},
   "outputs": [
    {
     "name": "stdout",
     "output_type": "stream",
     "text": [
      "1/1 [==============================] - 0s 191ms/step\n"
     ]
    }
   ],
   "source": [
    "# Realizamos la predicción\n",
    "y_proba = network.predict(X_new_prep)"
   ]
  },
  {
   "cell_type": "code",
   "execution_count": 48,
   "id": "638720ac",
   "metadata": {},
   "outputs": [
    {
     "data": {
      "text/plain": [
       "array([[2.0874366e-10, 1.2073492e-09, 1.8874891e-11, 4.6596022e-11,\n",
       "        9.9999905e-01, 6.5684161e-13, 1.0630166e-07, 7.9566365e-07,\n",
       "        3.6756091e-11, 1.5716997e-10]], dtype=float32)"
      ]
     },
     "execution_count": 48,
     "metadata": {},
     "output_type": "execute_result"
    }
   ],
   "source": [
    "y_proba"
   ]
  },
  {
   "cell_type": "code",
   "execution_count": 49,
   "id": "ebcab1df",
   "metadata": {},
   "outputs": [
    {
     "data": {
      "text/plain": [
       "array([[0., 0., 0., 0., 1., 0., 0., 0., 0., 0.]], dtype=float32)"
      ]
     },
     "execution_count": 49,
     "metadata": {},
     "output_type": "execute_result"
    }
   ],
   "source": [
    "y_proba.round(2)"
   ]
  },
  {
   "cell_type": "code",
   "execution_count": 50,
   "id": "1cf44fc9",
   "metadata": {},
   "outputs": [
    {
     "name": "stdout",
     "output_type": "stream",
     "text": [
      "1/1 [==============================] - 0s 28ms/step\n"
     ]
    },
    {
     "data": {
      "text/plain": [
       "array([4], dtype=int64)"
      ]
     },
     "execution_count": 50,
     "metadata": {},
     "output_type": "execute_result"
    }
   ],
   "source": [
    "# Realizamos la predicción obteniendo una clase en lugar de una probabilidad\n",
    "np.argmax(network.predict(X_new_prep), axis = -1)"
   ]
  },
  {
   "cell_type": "markdown",
   "id": "8a57f4b2",
   "metadata": {},
   "source": [
    "Es importante saber que el método tradicional predict_clasess va a ser deprecado proximamente"
   ]
  },
  {
   "cell_type": "markdown",
   "id": "f0c741b7",
   "metadata": {},
   "source": [
    "# 8. Guardar el modelo en disco"
   ]
  },
  {
   "cell_type": "markdown",
   "id": "a8877897",
   "metadata": {},
   "source": [
    "Con Keras generamos la arquitectura de la red neuronal, la entrenamos y después la evaluamos. Existen diferentes alternativas a la hora de exportar el modelo entrenado (https://keras.io/getting_started/faq/#what-are-my-options-for-saving-models), en este caso se expone una de las más utilizadas.\n",
    "\n",
    "De la forma que se indica a continuación, vamos a exportar en un fichero los siguientes componentes de la red neuronal: \n",
    "* La arquitectura del modelo\n",
    "* Los parámetros del modelo\n",
    "* Los hiperparámetros del modelo\n",
    "* Las métricas"
   ]
  },
  {
   "cell_type": "code",
   "execution_count": 51,
   "id": "71afc171",
   "metadata": {},
   "outputs": [
    {
     "name": "stdout",
     "output_type": "stream",
     "text": [
      "INFO:tensorflow:Assets written to: modelo_mnist_v1\\assets\n"
     ]
    }
   ],
   "source": [
    "# Guardamos el modelo en disco\n",
    "network.save(\"modelo_mnist_v1\")"
   ]
  },
  {
   "cell_type": "markdown",
   "id": "914ccf9e",
   "metadata": {},
   "source": [
    "Una vez ejecutada la celda anterior, generará un fichero *modelo_mnist* que puede utilizarse para transportarlo a otro sistema y predecir con nuevos ejemplos. La forma en la que puedes importar este fichero para predecir con nuevos ejemplos es la siguiente:"
   ]
  },
  {
   "cell_type": "code",
   "execution_count": 52,
   "id": "bd3b67fd",
   "metadata": {},
   "outputs": [
    {
     "name": "stdout",
     "output_type": "stream",
     "text": [
      "1/1 [==============================] - 0s 71ms/step\n"
     ]
    }
   ],
   "source": [
    "# Importamos las librerias necesarias\n",
    "from tensorflow.keras.models import load_model\n",
    "\n",
    "# cargmos el modelo del disco\n",
    "mnist_model = load_model(\"modelo_mnist_v1\")\n",
    "\n",
    "# Realizamos una nueva predicción\n",
    "y_pred = np.argmax(mnist_model.predict(X_new_prep), axis = -1)"
   ]
  },
  {
   "cell_type": "code",
   "execution_count": 53,
   "id": "5bcfbaca",
   "metadata": {},
   "outputs": [
    {
     "data": {
      "text/plain": [
       "array([4], dtype=int64)"
      ]
     },
     "execution_count": 53,
     "metadata": {},
     "output_type": "execute_result"
    }
   ],
   "source": [
    "y_pred"
   ]
  },
  {
   "cell_type": "code",
   "execution_count": null,
   "id": "312fde9f",
   "metadata": {},
   "outputs": [],
   "source": []
  }
 ],
 "metadata": {
  "kernelspec": {
   "display_name": "Python 3 (ipykernel)",
   "language": "python",
   "name": "python3"
  },
  "language_info": {
   "codemirror_mode": {
    "name": "ipython",
    "version": 3
   },
   "file_extension": ".py",
   "mimetype": "text/x-python",
   "name": "python",
   "nbconvert_exporter": "python",
   "pygments_lexer": "ipython3",
   "version": "3.8.16"
  }
 },
 "nbformat": 4,
 "nbformat_minor": 5
}
